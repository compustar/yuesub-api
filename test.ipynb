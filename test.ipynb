{
 "cells": [
  {
   "cell_type": "code",
   "execution_count": null,
   "metadata": {},
   "outputs": [],
   "source": [
    "# from pytubefix import YouTube\n",
    "\n",
    "# urls = 'https://www.youtube.com/watch?v=H2dEZftiAIk'\n",
    "\n",
    "# entry = YouTube(urls).title\n",
    "\n",
    "# vid = YouTube(urls)\n",
    "# audio_download = vid.streams.get_audio_only()\n",
    "# audio_download.download(mp3=True, filename=\"H2dEZftiAIk\", output_path=\"/tmp\")"
   ]
  },
  {
   "cell_type": "code",
   "execution_count": null,
   "metadata": {},
   "outputs": [],
   "source": [
    "# import youtube_dl\n",
    "\n",
    "# ydl_opts = {\n",
    "#     'format': 'worstaudio/worst',\n",
    "#     'postprocessors': [{\n",
    "#         'key': 'FFmpegExtractAudio',\n",
    "#         'preferredcodec': 'mp3',\n",
    "#         'preferredquality': '192',\n",
    "#     }],\n",
    "# }\n",
    "# with youtube_dl.YoutubeDL(ydl_opts) as ydl:\n",
    "#     ydl.download(['http://www.youtube.com/watch?v=C0DPdy98e4c'])"
   ]
  },
  {
   "cell_type": "code",
   "execution_count": 1,
   "metadata": {},
   "outputs": [
    {
     "name": "stderr",
     "output_type": "stream",
     "text": [
      "/Users/josephcheng/Projects/yue-subtitle-api/.venv/lib/python3.8/site-packages/tqdm/auto.py:21: TqdmWarning: IProgress not found. Please update jupyter and ipywidgets. See https://ipywidgets.readthedocs.io/en/stable/user_install.html\n",
      "  from .autonotebook import tqdm as notebook_tqdm\n"
     ]
    },
    {
     "name": "stdout",
     "output_type": "stream",
     "text": [
      "/var/folders/wp/0zldm9wx1m54950_qnk812f80000gn/T/2htwBFFgNXg.mp3\n"
     ]
    },
    {
     "name": "stderr",
     "output_type": "stream",
     "text": [
      "[src/libmpg123/parse.c:skip_junk():1276] error: Giving up searching valid MPEG header after 65536 bytes of junk.\n",
      "/Users/josephcheng/Projects/yue-subtitle-api/utils.py:270: UserWarning: PySoundFile failed. Trying audioread instead.\n",
      "  speech = librosa.load(audio_file, sr=16000)[0]\n",
      "/Users/josephcheng/Projects/yue-subtitle-api/.venv/lib/python3.8/site-packages/librosa/core/audio.py:184: FutureWarning: librosa.core.audio.__audioread_load\n",
      "\tDeprecated as of librosa version 0.10.0.\n",
      "\tIt will be removed in librosa version 1.0.\n",
      "  y, sr_native = __audioread_load(path, offset, duration, dtype)\n"
     ]
    },
    {
     "data": {
      "text/plain": [
       "[TranscribeResult(text=各位今日, start_time=0.6566071428571428, end_time=1.3587500000000001),\n",
       " TranscribeResult(text=我要講嘅成語就係叫做屠龍之極啦嗯, start_time=1.3587500000000001, end_time=4.459880952380952),\n",
       " TranscribeResult(text=冇錯啦, start_time=4.635416666666666, end_time=5.3375595238095235),\n",
       " TranscribeResult(text=從前有個叫朱平萬嘅青年好多人都覺得, start_time=5.747142857142856, end_time=8.49720238095238),\n",
       " TranscribeResult(text=佢, start_time=8.555714285714286, end_time=8.672738095238095),\n",
       " TranscribeResult(text=係個怪人嚟, start_time=8.672738095238095, end_time=9.96),\n",
       " TranscribeResult(text=嘿, start_time=10.964347826086957, end_time=11.64),\n",
       " TranscribeResult(text=佢哎啊, start_time=14.93878787878788, end_time=17.91),\n",
       " TranscribeResult(text=嗯, start_time=19.63235294117647, end_time=20.04),\n",
       " TranscribeResult(text=嘿, start_time=22.151176470588233, end_time=22.459999999999997),\n",
       " TranscribeResult(text=誒, start_time=22.985384615384614, end_time=23.33),\n",
       " TranscribeResult(text=嘿, start_time=24.83285714285714, end_time=25.09),\n",
       " TranscribeResult(text=嚇, start_time=27.05441176470588, end_time=28.407941176470587),\n",
       " TranscribeResult(text=系, start_time=29.968947368421052, end_time=30.352105263157892),\n",
       " TranscribeResult(text=唔準笑啊, start_time=32.071009174311925, end_time=33.170917431192656),\n",
       " TranscribeResult(text=吳準笑吳準笑啊, start_time=33.80770642201835, end_time=35.544403669724765),\n",
       " TranscribeResult(text=我一定要學成天下最叻嘅武功啊, start_time=35.66018348623853, end_time=37.86),\n",
       " TranscribeResult(text=屠龍大師, start_time=38.550322580645165, end_time=39.730000000000004),\n",
       " TranscribeResult(text=唉, start_time=40.543571428571425, end_time=40.91),\n",
       " TranscribeResult(text=屠龍大師, start_time=42.14808823529412, end_time=43.14558823529411),\n",
       " TranscribeResult(text=係後生仔啊, start_time=43.849705882352936, end_time=45.72735294117647),\n",
       " TranscribeResult(text=你問我有咩事啊大師, start_time=46.19676470588235, end_time=49.13058823529411),\n",
       " TranscribeResult(text=我想學屠龍之技啊, start_time=49.30661764705882, end_time=50.5975),\n",
       " TranscribeResult(text=你走啦, start_time=50.71485294117647, end_time=51.36029411764706),\n",
       " TranscribeResult(text=我唔收徒弟嘅, start_time=51.595, end_time=53.589999999999996),\n",
       " TranscribeResult(text=大師啊, start_time=54.59779661016949, end_time=55.125593220338985),\n",
       " TranscribeResult(text=請問, start_time=55.360169491525426, end_time=55.65338983050847),\n",
       " TranscribeResult(text=你收唔收呢啲啊哈哈哈哈哈哈, start_time=55.65338983050847, end_time=58.52694915254237),\n",
       " TranscribeResult(text=我睇, start_time=58.52694915254237, end_time=58.87881355932203),\n",
       " TranscribeResult(text=你都幾有誠意, start_time=58.87881355932203, end_time=60.05169491525424),\n",
       " TranscribeResult(text=我就破例一次啦, start_time=60.16898305084746, end_time=61.51779661016949),\n",
       " TranscribeResult(text=上學爺就要一走去湖邊等我啦, start_time=61.86966101694915, end_time=64.45),\n",
       " TranscribeResult(text=大師, start_time=68.84222222222223, end_time=69.38444444444445),\n",
       " TranscribeResult(text=我嚟咗啦, start_time=69.54711111111112, end_time=70.74000000000001),\n",
       " TranscribeResult(text=誒, start_time=79.825, end_time=80.12),\n",
       " TranscribeResult(text=喂, start_time=81.09714285714286, end_time=81.35000000000001),\n",
       " TranscribeResult(text=哈哈哈哈, start_time=84.68066666666667, end_time=85.97133333333333),\n",
       " TranscribeResult(text=你連呢個水龍陣都應付唔到點樣對付啲真正龍啊, start_time=86.03, end_time=90.43),\n",
       " TranscribeResult(text=不如再試下, start_time=90.66466666666666, end_time=91.42733333333334),\n",
       " TranscribeResult(text=我嘅火龍飯啦, start_time=91.42733333333334, end_time=92.77666666666667),\n",
       " TranscribeResult(text=唉, start_time=93.246, end_time=93.95),\n",
       " TranscribeResult(text=啊你啊咩龍, start_time=95.506, end_time=96.241),\n",
       " TranscribeResult(text=嗯, start_time=98.186, end_time=98.45),\n",
       " TranscribeResult(text=我知啦, start_time=100.38637500000002, end_time=101.00925000000001),\n",
       " TranscribeResult(text=原來大師想考下我功夫嘅, start_time=101.065875, end_time=102.93450000000001),\n",
       " TranscribeResult(text=好啦, start_time=103.21762500000001, end_time=103.55737500000001),\n",
       " TranscribeResult(text=即管嚟啊, start_time=103.67062500000002, end_time=104.52000000000001),\n",
       " TranscribeResult(text=喂, start_time=106.848, end_time=107.1),\n",
       " TranscribeResult(text=佢嚟啦, start_time=111.05162162162163, end_time=111.85432432432434),\n",
       " TranscribeResult(text=接管你啊, start_time=111.90783783783785, end_time=112.55000000000001),\n",
       " TranscribeResult(text=嗯啊, start_time=117.98733333333334, end_time=118.35000000000001),\n",
       " TranscribeResult(text=喂啊, start_time=120.52600000000001, end_time=120.82000000000001),\n",
       " TranscribeResult(text=哦, start_time=122.19, end_time=123.04),\n",
       " TranscribeResult(text=哈哈哈好, start_time=126.35344827586206, end_time=127.8596551724138),\n",
       " TranscribeResult(text=只要你再跟我苦練三年保證你會成爲天下第一嘅屠龍高手啊, start_time=128.03344827586207, end_time=132.61),\n",
       " TranscribeResult(text=好快又過咗三年啦, start_time=133.53810810810813, end_time=135.09),\n",
       " TranscribeResult(text=好嘢啊, start_time=138.20957983193276, end_time=138.67142857142858),\n",
       " TranscribeResult(text=我終於學成咗屠龍之技啦, start_time=138.72915966386554, end_time=140.4033613445378),\n",
       " TranscribeResult(text=好嘢龍啊龍啊快啲出嚟啊, start_time=140.74974789915967, end_time=144.56),\n",
       " TranscribeResult(text=龍啊, start_time=145.35849557522124, end_time=145.81938053097346),\n",
       " TranscribeResult(text=咦你咪係識咗中三年嘅朱平嘛, start_time=146.39548672566372, end_time=148.6999115044248),\n",
       " TranscribeResult(text=我仲聽講, start_time=148.9879646017699, end_time=149.73690265486727),\n",
       " TranscribeResult(text=你破晒產添噃, start_time=149.73690265486727, end_time=151.35),\n",
       " TranscribeResult(text=冇錯啊, start_time=153.22917647058824, end_time=153.76105882352942),\n",
       " TranscribeResult(text=我用晒啲錢去學屠龍知己, start_time=153.99745098039216, end_time=156.06588235294117),\n",
       " TranscribeResult(text=屌果今日俾我殺到條龍噶咧, start_time=156.24317647058825, end_time=157.89792156862745),\n",
       " TranscribeResult(text=所以名揚天下噶啦, start_time=157.95701960784314, end_time=159.493568627451),\n",
       " TranscribeResult(text=天龍一早就絕晒種啦, start_time=159.72996078431373, end_time=161.50290196078433),\n",
       " TranscribeResult(text=邊有龍俾你蒲啊, start_time=161.85749019607843, end_time=163.45313725490197),\n",
       " TranscribeResult(text=我哋都係去捉魚把咯, start_time=163.7486274509804, end_time=165.34427450980394),\n",
       " TranscribeResult(text=喂咦啊哼, start_time=165.87615686274512, end_time=167.59),\n",
       " TranscribeResult(text=我相信一定有龍嘅, start_time=168.87554411764705, end_time=170.15579044117646),\n",
       " TranscribeResult(text=無論如何, start_time=170.3303694852941, end_time=170.91229963235293),\n",
       " TranscribeResult(text=我都要等佢出嚟, start_time=170.91229963235293, end_time=171.95977389705882),\n",
       " TranscribeResult(text=龍只系傳說中嘅動物豬皮萬當然等唔到龍出嚟, start_time=172.48351102941177, end_time=176.32425)]"
      ]
     },
     "execution_count": 1,
     "metadata": {},
     "output_type": "execute_result"
    }
   ],
   "source": [
    "from utils import download_youtube_audio, transcribe\n",
    "\n",
    "audio_file = download_youtube_audio('2htwBFFgNXg')\n",
    "\n",
    "print(audio_file)\n",
    "\n",
    "if audio_file is not None:\n",
    "  transcription = transcribe(audio_file)\n",
    "\n",
    "transcription"
   ]
  },
  {
   "cell_type": "code",
   "execution_count": 17,
   "metadata": {},
   "outputs": [],
   "source": [
    "from pysrt import SubRipFile\n",
    "from pysrt import SubRipItem\n",
    "from pysrt import SubRipTime\n",
    "\n",
    "out = SubRipFile()\n",
    "\n",
    "for i, t in enumerate(transcription):\n",
    "  start = SubRipTime(seconds=t.start_time)\n",
    "  end = SubRipTime(seconds=t.end_time)\n",
    "  item = SubRipItem(index=i, start=start, end=end, text=t.text)\n",
    "  out.append(item)\n",
    "\n",
    "out.save('subtitles.srt')"
   ]
  },
  {
   "cell_type": "code",
   "execution_count": 25,
   "metadata": {},
   "outputs": [
    {
     "name": "stdout",
     "output_type": "stream",
     "text": [
      "隻 6.985522\n",
      "只 7.0312243\n"
     ]
    }
   ],
   "source": [
    "model = bert_model.model\n",
    "tokenizer = bert_model.tokenizer\n",
    "\n",
    "text = \"龍[MASK]係傳說中嘅動物豬皮萬噹然等唔到龍出嚟\"\n",
    "model_inputs = tokenizer(text, return_tensors=\"pt\")\n",
    "test1_label = \"隻\"\n",
    "test2_label = \"只\"\n",
    "test1_index = tokenizer.convert_tokens_to_ids(test1_label)\n",
    "test2_index = tokenizer.convert_tokens_to_ids(test2_label)\n",
    "mask_index = model_inputs.input_ids[0].tolist().index(tokenizer.mask_token_id)\n",
    "vocab_size = len(tokenizer.get_vocab())\n",
    "inputs_onnx = {k: v.cpu().detach().numpy()\n",
    "                for k, v in model_inputs.items()}\n",
    "predictions = model.run(None, inputs_onnx)\n",
    "lm_logits = predictions[0]\n",
    "\n",
    "print(test1_label, lm_logits[0, mask_index, test1_index])\n",
    "print(test2_label, lm_logits[0, mask_index, test2_index])"
   ]
  },
  {
   "cell_type": "code",
   "execution_count": null,
   "metadata": {},
   "outputs": [],
   "source": []
  }
 ],
 "metadata": {
  "kernelspec": {
   "display_name": ".venv",
   "language": "python",
   "name": "python3"
  },
  "language_info": {
   "codemirror_mode": {
    "name": "ipython",
    "version": 3
   },
   "file_extension": ".py",
   "mimetype": "text/x-python",
   "name": "python",
   "nbconvert_exporter": "python",
   "pygments_lexer": "ipython3",
   "version": "3.8.17"
  }
 },
 "nbformat": 4,
 "nbformat_minor": 2
}
